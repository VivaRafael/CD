{
 "cells": [
  {
   "cell_type": "markdown",
   "metadata": {},
   "source": [
    "# <div style=\"text-align: center\"><font color='gray' textalign='center'>Lab 1: Data Profilling</font></div>"
   ]
  },
  {
   "cell_type": "code",
   "execution_count": null,
   "metadata": {},
   "outputs": [],
   "source": [
    "import pandas as pd\n",
    "import ds_functions as ds\n",
    "import matplotlib.pyplot as plt\n",
    "\n",
    "data = pd.read_csv('heart_failure_clinical_records_dataset.csv', sep = ',')\n",
    "\n",
    "data.sex[data.sex == 1] = \"Man\"\n",
    "data.sex[data.sex == 0] = \"Woman\"\n",
    "data[\"sex\"] = data[\"sex\"].astype(\"category\")\n",
    "\n",
    "data[\"anaemia\"] = data[\"anaemia\"].astype(\"bool\")\n",
    "data[\"diabetes\"] = data[\"diabetes\"].astype(\"bool\")\n",
    "data[\"high_blood_pressure\"] = data[\"high_blood_pressure\"].astype(\"bool\")\n",
    "data[\"smoking\"] = data[\"smoking\"].astype(\"bool\")\n",
    "data[\"DEATH_EVENT\"] = data[\"DEATH_EVENT\"].astype(\"bool\")\n",
    "\n",
    "data"
   ]
  },
  {
   "cell_type": "markdown",
   "metadata": {},
   "source": [
    "## <font color='gray'> Data Dimensionality </font>"
   ]
  },
  {
   "cell_type": "code",
   "execution_count": null,
   "metadata": {},
   "outputs": [],
   "source": [
    "data.shape"
   ]
  },
  {
   "cell_type": "code",
   "execution_count": null,
   "metadata": {},
   "outputs": [],
   "source": [
    "plt.figure(figsize=(4,2))\n",
    "values = {'nr records': data.shape[0], 'nr variables': data.shape[1]}\n",
    "ds.bar_chart(values.keys(), values.values(), title='Nr of records vs nr variables')"
   ]
  },
  {
   "cell_type": "markdown",
   "metadata": {},
   "source": [
    "## <font color='gray'> Variables Type </font>"
   ]
  },
  {
   "cell_type": "code",
   "execution_count": null,
   "metadata": {},
   "outputs": [],
   "source": [
    "data.dtypes"
   ]
  },
  {
   "cell_type": "markdown",
   "metadata": {},
   "source": [
    "## <font color='gray'> Missing Values </font>"
   ]
  },
  {
   "cell_type": "code",
   "execution_count": null,
   "metadata": {},
   "outputs": [],
   "source": [
    "plt.figure(figsize=(6,2))\n",
    "mv = {}\n",
    "for var in data:\n",
    "    mv[var] = data[var].isna().sum()\n",
    "ds.bar_chart(mv.keys(), mv.values(), title='Nr of missing values per variable',\n",
    "               xlabel='variables',\n",
    "               ylabel='nr missing values')\n",
    "plt.xticks(rotation=90)\n",
    "mv.values()"
   ]
  },
  {
   "cell_type": "markdown",
   "metadata": {},
   "source": [
    "## <font color='gray'> Data Distribution - Numeric Variables</font>"
   ]
  },
  {
   "cell_type": "code",
   "execution_count": null,
   "metadata": {},
   "outputs": [],
   "source": [
    "data.describe()"
   ]
  },
  {
   "cell_type": "code",
   "execution_count": null,
   "metadata": {},
   "outputs": [],
   "source": [
    "data.boxplot(rot = 90)\n",
    "plt.show()"
   ]
  },
  {
   "cell_type": "code",
   "execution_count": null,
   "metadata": {},
   "outputs": [],
   "source": [
    "numeric_vars = data.select_dtypes(include='number').columns\n",
    "rows, cols = ds.choose_grid(len(numeric_vars))\n",
    "fig, axs = plt.subplots(rows, cols, figsize=(cols*ds.HEIGHT, rows*ds.HEIGHT))\n",
    "i, j = 0, 0\n",
    "for n in range(len(numeric_vars)):\n",
    "    axs[i, j].set_title('Boxplot for %s'%numeric_vars[n])\n",
    "    axs[i, j].boxplot(data[numeric_vars[n]].dropna().values)\n",
    "    i, j = (i + 1, 0) if (n+1) % cols == 0 else (i, j + 1)\n",
    "plt.show()"
   ]
  },
  {
   "cell_type": "code",
   "execution_count": null,
   "metadata": {},
   "outputs": [],
   "source": [
    "fig, axs = plt.subplots(rows, cols, figsize=(cols*ds.HEIGHT, rows*ds.HEIGHT))\n",
    "i, j = 0, 0\n",
    "for n in range(len(numeric_vars)):\n",
    "    axs[i, j].set_title('Histogram for %s'%numeric_vars[n])\n",
    "    axs[i, j].set_xlabel(numeric_vars[n])\n",
    "    axs[i, j].set_ylabel(\"nr records\")\n",
    "    axs[i, j].hist(data[numeric_vars[n]].dropna().values, 'auto')\n",
    "    i, j = (i + 1, 0) if (n+1) % cols == 0 else (i, j + 1)\n",
    "plt.show()"
   ]
  },
  {
   "cell_type": "code",
   "execution_count": null,
   "metadata": {},
   "outputs": [],
   "source": [
    "import seaborn as sns\n",
    "fig, axs = plt.subplots(rows, cols, figsize=(cols*ds.HEIGHT, rows*ds.HEIGHT))\n",
    "i, j = 0, 0\n",
    "for n in range(len(numeric_vars)):\n",
    "    axs[i, j].set_title('Histogram with trend for %s'%numeric_vars[n])\n",
    "    sns.distplot(data[numeric_vars[n]].dropna().values, norm_hist=True, ax=axs[i, j], axlabel=numeric_vars[n])\n",
    "    i, j = (i + 1, 0) if (n+1) % cols == 0 else (i, j + 1)\n",
    "plt.show()"
   ]
  },
  {
   "cell_type": "code",
   "execution_count": null,
   "metadata": {
    "scrolled": false
   },
   "outputs": [],
   "source": [
    "import scipy.stats as _stats\n",
    "import numpy as np\n",
    "def compute_known_distributions(x_values: list) -> dict:\n",
    "    distributions = dict()\n",
    "    # Gaussian\n",
    "    mean, sigma = _stats.norm.fit(x_values)\n",
    "    distributions['Normal(%.1f,%.2f)'%(mean,sigma)] = _stats.norm.pdf(x_values, mean, sigma)\n",
    "    # Exponential\n",
    "    loc, scale = _stats.expon.fit(x_values)\n",
    "    distributions['Exp(%.2f)'%(1/scale)] = _stats.expon.pdf(x_values, loc, scale)\n",
    "    # LogNorm\n",
    "    sigma, loc, scale = _stats.lognorm.fit(x_values)\n",
    "    distributions['LogNor(%.1f,%.2f)'%(np.log(scale),sigma)] = _stats.lognorm.pdf(x_values, sigma, loc, scale)\n",
    "    return distributions\n",
    "\n",
    "def histogram_with_distributions(ax: plt.Axes, series: pd.Series, var: str):\n",
    "    values = series.sort_values().values\n",
    "    ax.hist(values, 20, density=True)\n",
    "    distributions = compute_known_distributions(values)\n",
    "    ds.multiple_line_chart(values, distributions, ax=ax, title='Best fit for %s'%var, xlabel=var, ylabel='')\n",
    "\n",
    "fig, axs = plt.subplots(rows, cols, figsize=(cols*ds.HEIGHT, rows*ds.HEIGHT))\n",
    "i, j = 0, 0\n",
    "for n in range(len(numeric_vars)):\n",
    "    histogram_with_distributions(axs[i, j], data[numeric_vars[n]].dropna(), numeric_vars[n])\n",
    "    i, j = (i + 1, 0) if (n+1) % cols == 0 else (i, j + 1)\n",
    "plt.show()"
   ]
  },
  {
   "cell_type": "markdown",
   "metadata": {},
   "source": [
    "## <font color='gray'> Data Distribution - Symbolic Variables</font>"
   ]
  },
  {
   "cell_type": "code",
   "execution_count": null,
   "metadata": {},
   "outputs": [],
   "source": [
    "data.describe(include=[\"category\", \"bool\"])"
   ]
  },
  {
   "cell_type": "code",
   "execution_count": null,
   "metadata": {},
   "outputs": [],
   "source": [
    "symbolic_vars = data.select_dtypes(include = [\"bool\", \"category\"]).columns\n",
    "\n",
    "for var in symbolic_vars:\n",
    "    print(var, data[var].unique())"
   ]
  },
  {
   "cell_type": "code",
   "execution_count": null,
   "metadata": {
    "scrolled": true
   },
   "outputs": [],
   "source": [
    "rows, cols = ds.choose_grid(len(symbolic_vars))\n",
    "fig, axs = plt.subplots(rows, cols, figsize=(cols*ds.HEIGHT, rows*ds.HEIGHT), squeeze=False)\n",
    "i, j = 0, 0\n",
    "for n in range(len(symbolic_vars)):\n",
    "    counts = data[symbolic_vars[n]].value_counts() \n",
    "    ds.bar_chart(list(map(str, counts.index.to_list())), counts.values, ax=axs[i, j], title='Histogram for %s'%symbolic_vars[n],\n",
    "                 xlabel=symbolic_vars[n], ylabel='nr records')\n",
    "    i, j = (i + 1, 0) if (n+1) % cols == 0 else (i, j + 1)\n",
    "plt.show()"
   ]
  },
  {
   "cell_type": "markdown",
   "metadata": {},
   "source": [
    "## <font color='gray'> Data Granularity</font>"
   ]
  },
  {
   "cell_type": "code",
   "execution_count": null,
   "metadata": {},
   "outputs": [],
   "source": [
    "variables = data.select_dtypes(include='number').columns\n",
    "rows, cols = ds.choose_grid(len(variables))\n",
    "fig, axs = plt.subplots(rows, cols, figsize=(cols*ds.HEIGHT, rows*ds.HEIGHT))\n",
    "i, j = 0, 0\n",
    "for n in range(len(variables)):\n",
    "    axs[i, j].set_title('Histogram for %s'%variables[n])\n",
    "    axs[i, j].set_xlabel(variables[n])\n",
    "    axs[i, j].set_ylabel('nr records')\n",
    "    axs[i, j].hist(data[variables[n]].values, bins=10)\n",
    "    i, j = (i + 1, 0) if (n+1) % cols == 0 else (i, j + 1)\n",
    "plt.show()"
   ]
  },
  {
   "cell_type": "code",
   "execution_count": null,
   "metadata": {},
   "outputs": [],
   "source": [
    "columns = data.select_dtypes(include='number').columns\n",
    "rows = len(columns)\n",
    "bins = (10, 20, 50)\n",
    "cols = len(bins)\n",
    "fig, axs = plt.subplots(rows, cols, figsize=(cols*ds.HEIGHT, rows*ds.HEIGHT))\n",
    "for i in range(rows):\n",
    "    for j in range(cols):\n",
    "        axs[i, j].set_title('Histogram for %s %d bins'%(columns[i], bins[j]))\n",
    "        axs[i, j].set_xlabel(columns[i])\n",
    "        axs[i, j].set_ylabel('Nr records')\n",
    "        axs[i, j].hist(data[columns[i]].values, bins=bins[j])\n",
    "plt.show()"
   ]
  },
  {
   "cell_type": "code",
   "execution_count": null,
   "metadata": {},
   "outputs": [],
   "source": []
  }
 ],
 "metadata": {
  "kernelspec": {
   "display_name": "Python 3",
   "language": "python",
   "name": "python3"
  },
  "language_info": {
   "codemirror_mode": {
    "name": "ipython",
    "version": 3
   },
   "file_extension": ".py",
   "mimetype": "text/x-python",
   "name": "python",
   "nbconvert_exporter": "python",
   "pygments_lexer": "ipython3",
   "version": "3.8.3"
  }
 },
 "nbformat": 4,
 "nbformat_minor": 4
}
