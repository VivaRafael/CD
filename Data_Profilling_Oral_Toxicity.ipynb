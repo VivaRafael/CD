{
 "cells": [
  {
   "cell_type": "markdown",
   "metadata": {},
   "source": [
    "# <div style=\"text-align: center\"><font color='gray' textalign='center'>Lab 1: Data Profilling</font></div>"
   ]
  },
  {
   "cell_type": "code",
   "execution_count": null,
   "metadata": {},
   "outputs": [],
   "source": [
    "import pandas as pd\n",
    "import ds_functions as ds\n",
    "import matplotlib.pyplot as plt\n",
    "\n",
    "data = pd.read_csv('qsar_oral_toxicity.csv', sep = ';', header = None)\n",
    "\n",
    "data"
   ]
  },
  {
   "cell_type": "markdown",
   "metadata": {},
   "source": [
    "## <font color='gray'> Data Dimensionality </font>"
   ]
  },
  {
   "cell_type": "code",
   "execution_count": null,
   "metadata": {},
   "outputs": [],
   "source": [
    "data.shape"
   ]
  },
  {
   "cell_type": "code",
   "execution_count": null,
   "metadata": {},
   "outputs": [],
   "source": [
    "plt.figure(figsize=(4,2))\n",
    "values = {'nr records': data.shape[0], 'nr variables': data.shape[1]}\n",
    "ds.bar_chart(values.keys(), values.values(), title='Nr of records vs nr variables')"
   ]
  },
  {
   "cell_type": "markdown",
   "metadata": {},
   "source": [
    "## <font color='gray'> Variables Type </font>"
   ]
  },
  {
   "cell_type": "code",
   "execution_count": null,
   "metadata": {},
   "outputs": [],
   "source": [
    "data.dtypes"
   ]
  },
  {
   "cell_type": "code",
   "execution_count": null,
   "metadata": {},
   "outputs": [],
   "source": [
    "for col in data.select_dtypes(include = \"int64\"):\n",
    "    data[col] = data[col].astype(bool)\n",
    "\n",
    "cat_vars = data.select_dtypes(include='object')\n",
    "data[cat_vars.columns] = data.select_dtypes(['object']).apply(lambda x: x.astype('category'))\n",
    "data.dtypes"
   ]
  },
  {
   "cell_type": "markdown",
   "metadata": {},
   "source": [
    "## <font color='gray'> Missing Values </font>"
   ]
  },
  {
   "cell_type": "code",
   "execution_count": null,
   "metadata": {},
   "outputs": [],
   "source": [
    "mv = {}\n",
    "for var in data:\n",
    "    mv[var] = data[var].isna().sum()\n",
    "mv.values()"
   ]
  },
  {
   "cell_type": "markdown",
   "metadata": {},
   "source": [
    "## <font color='gray'> Data Distribution - Symbolic Variables</font>"
   ]
  },
  {
   "cell_type": "code",
   "execution_count": null,
   "metadata": {},
   "outputs": [],
   "source": [
    "data.describe(include=[\"bool\", \"category\"])"
   ]
  },
  {
   "cell_type": "code",
   "execution_count": null,
   "metadata": {},
   "outputs": [],
   "source": [
    "symbolic_vars = data.select_dtypes(include = [\"bool\", \"category\"]).columns\n",
    "\n",
    "for var in symbolic_vars:\n",
    "    print(var, data[var].unique())"
   ]
  },
  {
   "cell_type": "code",
   "execution_count": null,
   "metadata": {},
   "outputs": [],
   "source": [
    "rows, cols = ds.choose_grid(257)\n",
    "fig, axs = plt.subplots(rows, cols, figsize=(cols*ds.HEIGHT, rows*ds.HEIGHT), squeeze=False)\n",
    "i, j = 0, 0\n",
    "for n in range(257):\n",
    "    counts = data[symbolic_vars[n+257*0]].value_counts()\n",
    "    ds.bar_chart(list(map(str, counts.index.to_list())), counts.values, ax=axs[i, j], title='Histogram for %s'%symbolic_vars[n+257*0],\n",
    "                 xlabel=symbolic_vars[n+257*0], ylabel='nr records')\n",
    "    i, j = (i + 1, 0) if (n+1) % cols == 0 else (i, j + 1)\n",
    "plt.show()"
   ]
  },
  {
   "cell_type": "code",
   "execution_count": null,
   "metadata": {},
   "outputs": [],
   "source": [
    "rows, cols = ds.choose_grid(257)\n",
    "fig, axs = plt.subplots(rows, cols, figsize=(cols*ds.HEIGHT, rows*ds.HEIGHT), squeeze=False)\n",
    "i, j = 0, 0\n",
    "for n in range(257):\n",
    "    counts = data[symbolic_vars[n+257*1]].value_counts()\n",
    "    ds.bar_chart(list(map(str, counts.index.to_list())), counts.values, ax=axs[i, j], title='Histogram for %s'%symbolic_vars[n+257*1],\n",
    "                 xlabel=symbolic_vars[n+257*1], ylabel='nr records')\n",
    "    i, j = (i + 1, 0) if (n+1) % cols == 0 else (i, j + 1)\n",
    "plt.show()"
   ]
  },
  {
   "cell_type": "code",
   "execution_count": null,
   "metadata": {},
   "outputs": [],
   "source": [
    "rows, cols = ds.choose_grid(257)\n",
    "fig, axs = plt.subplots(rows, cols, figsize=(cols*ds.HEIGHT, rows*ds.HEIGHT), squeeze=False)\n",
    "i, j = 0, 0\n",
    "for n in range(257):\n",
    "    counts = data[symbolic_vars[n+257*2]].value_counts()\n",
    "    ds.bar_chart(list(map(str, counts.index.to_list())), counts.values, ax=axs[i, j], title='Histogram for %s'%symbolic_vars[n+257*2],\n",
    "                 xlabel=symbolic_vars[n+257*2], ylabel='nr records')\n",
    "    i, j = (i + 1, 0) if (n+1) % cols == 0 else (i, j + 1)\n",
    "plt.show()"
   ]
  },
  {
   "cell_type": "code",
   "execution_count": null,
   "metadata": {},
   "outputs": [],
   "source": [
    "rows, cols = ds.choose_grid(257)\n",
    "fig, axs = plt.subplots(rows, cols, figsize=(cols*ds.HEIGHT, rows*ds.HEIGHT), squeeze=False)\n",
    "i, j = 0, 0\n",
    "for n in range(254):\n",
    "    counts = data[symbolic_vars[n+257*3]].value_counts()\n",
    "    ds.bar_chart(list(map(str, counts.index.to_list())), counts.values, ax=axs[i, j], title='Histogram for %s'%symbolic_vars[n+257*3],\n",
    "                 xlabel=symbolic_vars[n+257*3], ylabel='nr records')\n",
    "    i, j = (i + 1, 0) if (n+1) % cols == 0 else (i, j + 1)\n",
    "plt.show()"
   ]
  },
  {
   "cell_type": "markdown",
   "metadata": {},
   "source": [
    "## <font color='gray'> Sparsity</font>"
   ]
  },
  {
   "cell_type": "code",
   "execution_count": null,
   "metadata": {},
   "outputs": [],
   "source": [
    "corr_mtx = data.corr()"
   ]
  },
  {
   "cell_type": "code",
   "execution_count": null,
   "metadata": {},
   "outputs": [],
   "source": [
    "print(corr_mtx)"
   ]
  },
  {
   "cell_type": "code",
   "execution_count": null,
   "metadata": {},
   "outputs": [],
   "source": [
    "corr = []\n",
    "\n",
    "for diag in range(len(corr_mtx)):\n",
    "    for row in range(len(corr_mtx[0]) - diag):\n",
    "        col = row + diag\n",
    "        if corr_mtx[row][col] > 0.95 and col != row:\n",
    "            corr.append([row, col, corr_mtx[row][col]])\n",
    "\n",
    "corr.sort()\n",
    "\n",
    "unique = []\n",
    "\n",
    "for i in range(len(corr)):\n",
    "    print(\"Variables: \", corr[i][0], \", \", corr[i][1], \"\\tCorrelation: \", corr[i][2])\n",
    "    if corr[i][0] not in unique:\n",
    "        unique.append(corr[i][0])\n",
    "    if corr[i][1] not in unique:\n",
    "        unique.append(corr[i][1])\n",
    "\n",
    "unique.sort()"
   ]
  },
  {
   "cell_type": "code",
   "execution_count": null,
   "metadata": {},
   "outputs": [],
   "source": [
    "import seaborn as sns\n",
    "import numpy as np\n",
    "\n",
    "high_data = data[unique].corr()\n",
    "\n",
    "fig = plt.figure(figsize=[20, 20])\n",
    "#annot a false e com 100 variaveis. comparar com a variavel target\n",
    "sns.heatmap(high_data, xticklabels=high_data.columns, yticklabels=high_data.columns, annot=True, cmap='Blues')\n",
    "plt.title('Correlation analysis')\n",
    "plt.show()"
   ]
  },
  {
   "cell_type": "code",
   "execution_count": null,
   "metadata": {},
   "outputs": [],
   "source": []
  }
 ],
 "metadata": {
  "kernelspec": {
   "display_name": "Python 3",
   "language": "python",
   "name": "python3"
  },
  "language_info": {
   "codemirror_mode": {
    "name": "ipython",
    "version": 3
   },
   "file_extension": ".py",
   "mimetype": "text/x-python",
   "name": "python",
   "nbconvert_exporter": "python",
   "pygments_lexer": "ipython3",
   "version": "3.8.3"
  }
 },
 "nbformat": 4,
 "nbformat_minor": 4
}
